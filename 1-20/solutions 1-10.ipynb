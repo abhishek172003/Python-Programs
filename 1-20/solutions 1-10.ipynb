{
 "cells": [
  {
   "cell_type": "markdown",
   "id": "29959294-eb2e-4100-8fae-03ae180b7e1e",
   "metadata": {},
   "source": [
    " ### 1.Write a Python program to print \"Hello Python\"."
   ]
  },
  {
   "cell_type": "code",
   "execution_count": 2,
   "id": "a22fb690-1636-4c89-9e52-f781a2f65b5d",
   "metadata": {},
   "outputs": [
    {
     "name": "stdout",
     "output_type": "stream",
     "text": [
      "Hello Python\n"
     ]
    }
   ],
   "source": [
    "print(\"Hello Python\")"
   ]
  },
  {
   "cell_type": "markdown",
   "id": "ef9bf8e2-e992-4e8c-8a91-fc394f5b444e",
   "metadata": {},
   "source": [
    "### 2.Write a Python program to do arithmetical operations addition and division"
   ]
  },
  {
   "cell_type": "code",
   "execution_count": 4,
   "id": "1c04a724-ae61-483d-98b8-e76fcb19725e",
   "metadata": {},
   "outputs": [
    {
     "name": "stdin",
     "output_type": "stream",
     "text": [
      "Enter the first number for addition:  5\n",
      "Enter the second number for addition:  6\n"
     ]
    },
    {
     "name": "stdout",
     "output_type": "stream",
     "text": [
      "sum: 5.0 + 6.0 = 11.0\n"
     ]
    }
   ],
   "source": [
    "# Addition\n",
    "num1 = float(input(\"Enter the first number for addition: \"))\n",
    "num2 = float(input(\"Enter the second number for addition: \"))\n",
    "sum_result = num1 + num2\n",
    "print(f\"sum: {num1} + {num2} = {sum_result}\")"
   ]
  },
  {
   "cell_type": "code",
   "execution_count": 5,
   "id": "0ee53d56-08cf-447a-a892-4be2d7bb7e86",
   "metadata": {},
   "outputs": [
    {
     "name": "stdin",
     "output_type": "stream",
     "text": [
      "Enter the dividend for division:  25\n",
      "Enter the divisor for division:  5\n"
     ]
    },
    {
     "name": "stdout",
     "output_type": "stream",
     "text": [
      "Division: 25.0 / 5.0 = 5.0\n"
     ]
    }
   ],
   "source": [
    "# Division\n",
    "num3 = float(input(\"Enter the dividend for division: \"))\n",
    "num4 = float(input(\"Enter the divisor for division: \"))\n",
    "if num4 == 0:\n",
    " print(\"Error: Division by zero is not allowed.\")\n",
    "else:\n",
    " div_result = num3 / num4\n",
    "print(f\"Division: {num3} / {num4} = {div_result}\")"
   ]
  },
  {
   "cell_type": "markdown",
   "id": "655f7243-0446-43f3-8f3c-34605c8e49a6",
   "metadata": {},
   "source": [
    "### 3.Write a Python program to find the area of a triangle."
   ]
  },
  {
   "cell_type": "code",
   "execution_count": 6,
   "id": "51808039-22b0-4a51-bee6-867ec83f17c7",
   "metadata": {},
   "outputs": [
    {
     "name": "stdin",
     "output_type": "stream",
     "text": [
      "Enter the length of the base of the triangle:  10\n",
      "Enter the height of the triangle:  15\n"
     ]
    },
    {
     "name": "stdout",
     "output_type": "stream",
     "text": [
      "The area of the triangle is: 75.0\n"
     ]
    }
   ],
   "source": [
    "# Input the base and height from the user\n",
    "base = float(input(\"Enter the length of the base of the triangle: \"))\n",
    "height = float(input(\"Enter the height of the triangle: \"))\n",
    "# Calculate the area of the triangle\n",
    "area = 0.5 * base * height\n",
    "# Display the result\n",
    "print(f\"The area of the triangle is: {area}\")"
   ]
  },
  {
   "cell_type": "markdown",
   "id": "64a47100-67b3-4c1b-b636-e31dcce55ca4",
   "metadata": {},
   "source": [
    "### 4. Write a Python program to swap two variables."
   ]
  },
  {
   "cell_type": "code",
   "execution_count": 8,
   "id": "761fd0b6-a445-4149-8da4-8eb744c3227d",
   "metadata": {},
   "outputs": [
    {
     "name": "stdin",
     "output_type": "stream",
     "text": [
      "Enter the value of the first variable (a):  5\n",
      "Enter the value of the second variable (b):  9\n"
     ]
    },
    {
     "name": "stdout",
     "output_type": "stream",
     "text": [
      "Original values: a = 5, b = 9\n",
      "Swapped values: a = 9, b = 5\n"
     ]
    }
   ],
   "source": [
    "# Input two variables\n",
    "a = input(\"Enter the value of the first variable (a): \")\n",
    "b = input(\"Enter the value of the second variable (b): \")\n",
    "# Display the original values\n",
    "print(f\"Original values: a = {a}, b = {b}\")\n",
    "# Swap the values using a temporary variable\n",
    "temp = a\n",
    "a = b\n",
    "b = temp\n",
    "# Display the swapped values\n",
    "print(f\"Swapped values: a = {a}, b = {b}\")"
   ]
  },
  {
   "cell_type": "markdown",
   "id": "d27138d0-b02c-4bf0-9e68-7d5b88c233eb",
   "metadata": {},
   "source": [
    "### 5. Write a Python program to generate a random number."
   ]
  },
  {
   "cell_type": "code",
   "execution_count": 10,
   "id": "c9dfe210-1a52-4e23-96c8-5da942055f85",
   "metadata": {},
   "outputs": [
    {
     "name": "stdout",
     "output_type": "stream",
     "text": [
      "Random number: 81\n"
     ]
    }
   ],
   "source": [
    "import random\n",
    "print(f\"Random number: {random.randint(1, 100)}\")"
   ]
  },
  {
   "cell_type": "markdown",
   "id": "c62f6b94-e062-4a62-8320-2c594829ce61",
   "metadata": {},
   "source": [
    "### 6. Write a Python program to convert kilometers to miles."
   ]
  },
  {
   "cell_type": "code",
   "execution_count": 11,
   "id": "6222585c-d437-4a63-a1eb-9d7cae451cec",
   "metadata": {},
   "outputs": [
    {
     "name": "stdin",
     "output_type": "stream",
     "text": [
      "Enter distance in kilometers:  100\n"
     ]
    },
    {
     "name": "stdout",
     "output_type": "stream",
     "text": [
      "100.0 kilometers is equal to 62.137100000000004 miles\n"
     ]
    }
   ],
   "source": [
    "kilometers = float(input(\"Enter distance in kilometers: \"))\n",
    "# Conversion factor: 1 kilometer = 0.621371 miles\n",
    "conversion_factor = 0.621371\n",
    "miles = kilometers * conversion_factor\n",
    "print(f\"{kilometers} kilometers is equal to {miles} miles\")"
   ]
  },
  {
   "cell_type": "markdown",
   "id": "78e2c950-6eb0-4c84-a0d4-2c43dc32b83d",
   "metadata": {},
   "source": [
    "### 7. Write a Python program to convert Celsius to Fahrenheit."
   ]
  },
  {
   "cell_type": "code",
   "execution_count": 15,
   "id": "51e6aa00-4e8c-4ca6-8044-5a1d89bdfa82",
   "metadata": {},
   "outputs": [
    {
     "name": "stdin",
     "output_type": "stream",
     "text": [
      "Enter temperature in Celsius:  37\n"
     ]
    },
    {
     "name": "stdout",
     "output_type": "stream",
     "text": [
      "37.0 degrees Celsius is equal to 98.6 degrees Fahrenheit\n"
     ]
    }
   ],
   "source": [
    "celsius = float(input(\"Enter temperature in Celsius: \"))\n",
    "# Conversion formula: Fahrenheit = (Celsius * 9/5) + 32\n",
    "fahrenheit = (celsius * 9/5) + 32\n",
    "print(f\"{celsius} degrees Celsius is equal to {fahrenheit} degrees Fahrenheit\")"
   ]
  },
  {
   "cell_type": "markdown",
   "id": "2db58cba-e2bb-4d4d-bb1d-aa680bb8ec8b",
   "metadata": {},
   "source": [
    "### 8. Write a Python program to display calendar."
   ]
  },
  {
   "cell_type": "code",
   "execution_count": 16,
   "id": "b9fb7cab-0468-4cf4-875b-fa05ed8bb733",
   "metadata": {},
   "outputs": [
    {
     "name": "stdin",
     "output_type": "stream",
     "text": [
      "Enter year:  2025\n",
      "Enter month:  12\n"
     ]
    },
    {
     "name": "stdout",
     "output_type": "stream",
     "text": [
      "   December 2025\n",
      "Mo Tu We Th Fr Sa Su\n",
      " 1  2  3  4  5  6  7\n",
      " 8  9 10 11 12 13 14\n",
      "15 16 17 18 19 20 21\n",
      "22 23 24 25 26 27 28\n",
      "29 30 31\n",
      "\n"
     ]
    }
   ],
   "source": [
    "import calendar\n",
    "year = int(input(\"Enter year: \"))\n",
    "month = int(input(\"Enter month: \"))\n",
    "cal = calendar.month(year, month)\n",
    "print(cal)"
   ]
  },
  {
   "cell_type": "markdown",
   "id": "6ddb6a04-6c31-43d9-8f3c-8388c7d8dd25",
   "metadata": {},
   "source": [
    "### 9. Write a Python program to solve quadratic equation."
   ]
  },
  {
   "attachments": {},
   "cell_type": "markdown",
   "id": "f8742bd9-feb0-4813-9980-e2cbb05bbad7",
   "metadata": {},
   "source": [
    "The standard form of a quadratic equation is:\n",
    "$$ax^2 + bx + c = 0$$\n",
    "where\n",
    "$a$, $b$ and $c$ are real numbers and\n",
    "$a \\neq 0$\n",
    "The solutions of this quadratic equation are given by:\n",
    "$$\\frac{-b \\pm \\sqrt{b^2 - 4ac}}{2a}$$"
   ]
  },
  {
   "cell_type": "code",
   "execution_count": 19,
   "id": "122a361f-ed1c-43c9-b906-49de5249a04c",
   "metadata": {},
   "outputs": [
    {
     "name": "stdin",
     "output_type": "stream",
     "text": [
      "Enter coefficient a:  1\n",
      "Enter coefficient b:  4\n",
      "Enter coefficient c:  8\n"
     ]
    },
    {
     "name": "stdout",
     "output_type": "stream",
     "text": [
      "Root 1: -2.0 + 2.0i\n",
      "Root 2: -2.0 - 2.0i\n"
     ]
    }
   ],
   "source": [
    "import math\n",
    "# Input coefficients\n",
    "a = float(input(\"Enter coefficient a: \"))\n",
    "b = float(input(\"Enter coefficient b: \"))\n",
    "c = float(input(\"Enter coefficient c: \"))\n",
    "# Calculate the discriminant\n",
    "discriminant = b**2 - 4*a*c\n",
    "# Check if the discriminant is positive, negative, or zero\n",
    "if discriminant > 0:\n",
    " # Two real and distinct roots\n",
    " root1 = (-b + math.sqrt(discriminant)) / (2*a)\n",
    " root2 = (-b - math.sqrt(discriminant)) / (2*a)\n",
    " print(f\"Root 1: {root1}\")\n",
    " print(f\"Root 2: {root2}\")\n",
    "elif discriminant == 0:\n",
    " # One real root (repeated)\n",
    " root = -b / (2*a)\n",
    " print(f\"Root: {root}\")\n",
    "else:\n",
    " # Complex roots\n",
    " real_part = -b / (2*a)\n",
    " imaginary_part = math.sqrt(abs(discriminant)) / (2*a)\n",
    " print(f\"Root 1: {real_part} + {imaginary_part}i\")\n",
    " print(f\"Root 2: {real_part} - {imaginary_part}i\")"
   ]
  },
  {
   "cell_type": "markdown",
   "id": "57191457-fdcc-4551-b27d-d081cc587f7c",
   "metadata": {},
   "source": [
    "### 10. Write a Python program to swap two variables without temp variable."
   ]
  },
  {
   "cell_type": "code",
   "execution_count": 21,
   "id": "3c229a0a-3f60-4500-983e-620c362a7aed",
   "metadata": {},
   "outputs": [
    {
     "name": "stdout",
     "output_type": "stream",
     "text": [
      "After swapping:\n",
      "a = 10\n",
      "b = 5\n"
     ]
    }
   ],
   "source": [
    "a = 5\n",
    "b = 10\n",
    "# Swapping without a temporary variable\n",
    "a, b = b, a\n",
    "print(\"After swapping:\")\n",
    "print(\"a =\", a)\n",
    "print(\"b =\", b)"
   ]
  }
 ],
 "metadata": {
  "kernelspec": {
   "display_name": "Python 3 (ipykernel)",
   "language": "python",
   "name": "python3"
  },
  "language_info": {
   "codemirror_mode": {
    "name": "ipython",
    "version": 3
   },
   "file_extension": ".py",
   "mimetype": "text/x-python",
   "name": "python",
   "nbconvert_exporter": "python",
   "pygments_lexer": "ipython3",
   "version": "3.11.8"
  }
 },
 "nbformat": 4,
 "nbformat_minor": 5
}
